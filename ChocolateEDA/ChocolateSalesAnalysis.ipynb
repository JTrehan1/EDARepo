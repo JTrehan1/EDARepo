{
 "cells": [
  {
   "cell_type": "markdown",
   "metadata": {},
   "source": [
    "# Introduction\n",
    "\n",
    "This goal of this project is to analyse choclate sales data from a dataset uploaded to Kaggle (https://www.kaggle.com/datasets/atharvasoundankar/chocolate-sales/data). I love chocolate and after Breakaway being discontinued and Yorkie biscuit having the same fate, I want to see what the next victim could be (I am not talking about myself). \n",
    "\n",
    "<h2> Collection Methodology</h2>\n",
    "Data was aggregated from chocolate retailers and online marketplaces.\n",
    "Only confirmed transactions were included to ensure accuracy.\n",
    "Revenue values reflect final prices after applying discounts, if any.\n",
    "\n",
    "\n",
    "This project will scope, analyse, prepare, plot data, and seek to explain the findings from the analysis.\n",
    "\n",
    "Here are a few questions that this project has sought to answer:\n",
    "\n",
    "- What purchasing patterns are evident across different customer segments?\n",
    "- Do certain types of chocolate categories perform best in different locations?\n",
    "- What potential marketing strategies can be employed based on data insights, how valuale is chocolate?\n",
    "\n",
    "**Data sources:**\n",
    " `ChocolateSales.csv` \n"
   ]
  },
  {
   "cell_type": "markdown",
   "metadata": {},
   "source": [
    "## Scoping\n",
    "\n",
    "It's beneficial to create a project scope. Four sections were created below to help guide the project's process and progress. The first section is the project goals, this section will define the high-level objectives and set the intentions for this project. The next section is the data, it needs to be checked if project goals can be met with the available data. Thirdly, the analysis will have to be thought through, which includes the methods and questions that are aligned with the project goals. Lastly, evaluation will help us build conclusions and findings from our analysis.\n",
    "\n",
    "### Project Goals\n",
    "\n",
    "In this project the perspective will be through a chocloate lover who wants to gain an insight into chocolate sales across the globe, trends in types of chocolates being purchased and how valuable the sweet treat is. \n",
    "\n",
    "- What purchasing patterns are evident across different customer segments?\n",
    "- Do certain types of chocolate categories perform best in different locations?\n",
    "- What potential marketing strategies can be employed based on data insights, how valuale is chocolate?\n",
    "\n",
    "### Data\n",
    "\n",
    "This project has one data set as a `csv` file. This dataset contains detailed records of chocolate sales, including product details, sales quantities, revenue, and customer segments. \n",
    "\n",
    "### Analysis\n",
    "\n",
    "In this section, descriptive statistics and data visualisation techniques will be employed to understand the data better. Statistical inference will also be used to test if the observed values are statistically significant. Some of the key metrics that will be computed include: \n",
    "\n",
    "1. Distributions\n",
    "1. Counts\n",
    "1. Relationship between location and sales\n",
    "1. Customer behaviour analysis\n",
    "1. Seasonality trends \n",
    "\n",
    "### Evaluation\n",
    "\n",
    "Lastly, it's a good idea to revisit the goals and check if the output of the analysis corresponds to the questions first set to be answered (in the goals section). This section will also reflect on what has been learned through the process, and if any of the questions were unable to be answered. This will also include limitations or if any of the analysis could have been done using different methodologies."
   ]
  },
  {
   "cell_type": "markdown",
   "metadata": {},
   "source": [
    "## Import Python Modules"
   ]
  },
  {
   "cell_type": "code",
   "execution_count": 231,
   "metadata": {},
   "outputs": [],
   "source": [
    "import pandas as pd\n",
    "import numpy as np\n",
    "from matplotlib import pyplot as plt\n",
    "import seaborn as sns"
   ]
  },
  {
   "cell_type": "markdown",
   "metadata": {},
   "source": [
    "## Loading in the data"
   ]
  },
  {
   "cell_type": "code",
   "execution_count": 232,
   "metadata": {},
   "outputs": [
    {
     "data": {
      "text/html": [
       "<div>\n",
       "<style scoped>\n",
       "    .dataframe tbody tr th:only-of-type {\n",
       "        vertical-align: middle;\n",
       "    }\n",
       "\n",
       "    .dataframe tbody tr th {\n",
       "        vertical-align: top;\n",
       "    }\n",
       "\n",
       "    .dataframe thead th {\n",
       "        text-align: right;\n",
       "    }\n",
       "</style>\n",
       "<table border=\"1\" class=\"dataframe\">\n",
       "  <thead>\n",
       "    <tr style=\"text-align: right;\">\n",
       "      <th></th>\n",
       "      <th>Sales Person</th>\n",
       "      <th>Country</th>\n",
       "      <th>Product</th>\n",
       "      <th>Date</th>\n",
       "      <th>Amount</th>\n",
       "      <th>Boxes Shipped</th>\n",
       "    </tr>\n",
       "  </thead>\n",
       "  <tbody>\n",
       "    <tr>\n",
       "      <th>0</th>\n",
       "      <td>Jehu Rudeforth</td>\n",
       "      <td>UK</td>\n",
       "      <td>Mint Chip Choco</td>\n",
       "      <td>04-Jan-22</td>\n",
       "      <td>$5,320</td>\n",
       "      <td>180</td>\n",
       "    </tr>\n",
       "    <tr>\n",
       "      <th>1</th>\n",
       "      <td>Van Tuxwell</td>\n",
       "      <td>India</td>\n",
       "      <td>85% Dark Bars</td>\n",
       "      <td>01-Aug-22</td>\n",
       "      <td>$7,896</td>\n",
       "      <td>94</td>\n",
       "    </tr>\n",
       "    <tr>\n",
       "      <th>2</th>\n",
       "      <td>Gigi Bohling</td>\n",
       "      <td>India</td>\n",
       "      <td>Peanut Butter Cubes</td>\n",
       "      <td>07-Jul-22</td>\n",
       "      <td>$4,501</td>\n",
       "      <td>91</td>\n",
       "    </tr>\n",
       "    <tr>\n",
       "      <th>3</th>\n",
       "      <td>Jan Morforth</td>\n",
       "      <td>Australia</td>\n",
       "      <td>Peanut Butter Cubes</td>\n",
       "      <td>27-Apr-22</td>\n",
       "      <td>$12,726</td>\n",
       "      <td>342</td>\n",
       "    </tr>\n",
       "    <tr>\n",
       "      <th>4</th>\n",
       "      <td>Jehu Rudeforth</td>\n",
       "      <td>UK</td>\n",
       "      <td>Peanut Butter Cubes</td>\n",
       "      <td>24-Feb-22</td>\n",
       "      <td>$13,685</td>\n",
       "      <td>184</td>\n",
       "    </tr>\n",
       "  </tbody>\n",
       "</table>\n",
       "</div>"
      ],
      "text/plain": [
       "     Sales Person    Country              Product       Date    Amount  \\\n",
       "0  Jehu Rudeforth         UK      Mint Chip Choco  04-Jan-22   $5,320    \n",
       "1     Van Tuxwell      India        85% Dark Bars  01-Aug-22   $7,896    \n",
       "2    Gigi Bohling      India  Peanut Butter Cubes  07-Jul-22   $4,501    \n",
       "3    Jan Morforth  Australia  Peanut Butter Cubes  27-Apr-22  $12,726    \n",
       "4  Jehu Rudeforth         UK  Peanut Butter Cubes  24-Feb-22  $13,685    \n",
       "\n",
       "   Boxes Shipped  \n",
       "0            180  \n",
       "1             94  \n",
       "2             91  \n",
       "3            342  \n",
       "4            184  "
      ]
     },
     "execution_count": 232,
     "metadata": {},
     "output_type": "execute_result"
    }
   ],
   "source": [
    "salesData = pd.read_csv(\"/Users/jai/Documents/GitHub/EDARepo/ChocolateEDA/ChocolateSales.csv\")\n",
    "salesData.head()"
   ]
  },
  {
   "cell_type": "markdown",
   "metadata": {},
   "source": [
    "The <code>ChocolateSales.csv</code> information on chocolate sales across the globe. The columns in the dataset are:\n",
    "<ul>\n",
    "<li>Sales Person - the sales person who sold the product</li> \n",
    "<li>Country - Sales region or store location where the transaction took place</li>\n",
    "<li>Product - Name of the chocolate product sold</li>\n",
    "<li>Date - The transaction date of the chocolate sale</li>\n",
    "<li>Amount - Total revenue generated from the sale</li>\n",
    "<li>Boxes Shipped - Number of chocolate units sold in the transaction</li>\n",
    "</ul>"
   ]
  },
  {
   "cell_type": "markdown",
   "metadata": {},
   "source": [
    "<h2>Data characteristics</h2>"
   ]
  },
  {
   "cell_type": "code",
   "execution_count": 233,
   "metadata": {},
   "outputs": [
    {
     "data": {
      "text/plain": [
       "(1094, 6)"
      ]
     },
     "execution_count": 233,
     "metadata": {},
     "output_type": "execute_result"
    }
   ],
   "source": [
    "salesData.shape"
   ]
  },
  {
   "cell_type": "code",
   "execution_count": 234,
   "metadata": {},
   "outputs": [
    {
     "data": {
      "text/plain": [
       "Sales Person     object\n",
       "Country          object\n",
       "Product          object\n",
       "Date             object\n",
       "Amount           object\n",
       "Boxes Shipped     int64\n",
       "dtype: object"
      ]
     },
     "execution_count": 234,
     "metadata": {},
     "output_type": "execute_result"
    }
   ],
   "source": [
    "salesData.dtypes"
   ]
  },
  {
   "cell_type": "code",
   "execution_count": 235,
   "metadata": {},
   "outputs": [
    {
     "data": {
      "text/plain": [
       "Sales Person     0\n",
       "Country          0\n",
       "Product          0\n",
       "Date             0\n",
       "Amount           0\n",
       "Boxes Shipped    0\n",
       "dtype: int64"
      ]
     },
     "execution_count": 235,
     "metadata": {},
     "output_type": "execute_result"
    }
   ],
   "source": [
    "salesData.isna().sum()"
   ]
  },
  {
   "cell_type": "markdown",
   "metadata": {},
   "source": [
    "We have no missing data. Amount needs to be converted to a flaot first and foremost to enable descriptive analysis on the column later down the line."
   ]
  },
  {
   "cell_type": "code",
   "execution_count": 243,
   "metadata": {},
   "outputs": [],
   "source": [
    "salesData[\"Amount\"] = salesData[\"Amount\"].astype(str)\n",
    "salesData[\"Amount\"] = salesData[\"Amount\"].str.replace(\",\" , \"\")\n",
    "salesData[\"Amount\"] = salesData[\"Amount\"].str.replace(r\"\\$\", \"\", regex=True).astype(float)"
   ]
  },
  {
   "cell_type": "code",
   "execution_count": 237,
   "metadata": {},
   "outputs": [
    {
     "data": {
      "text/plain": [
       "Sales Person      object\n",
       "Country           object\n",
       "Product           object\n",
       "Date              object\n",
       "Amount           float64\n",
       "Boxes Shipped      int64\n",
       "dtype: object"
      ]
     },
     "execution_count": 237,
     "metadata": {},
     "output_type": "execute_result"
    }
   ],
   "source": [
    "salesData.dtypes"
   ]
  },
  {
   "cell_type": "markdown",
   "metadata": {},
   "source": [
    "<h2>Explore the data</h2>\n",
    "\n",
    "Find the number of distinct enterties for each column in the data. The dataset includes data for 385 boxes of chocolates sold across 6 countries. "
   ]
  },
  {
   "cell_type": "code",
   "execution_count": 238,
   "metadata": {},
   "outputs": [
    {
     "name": "stdout",
     "output_type": "stream",
     "text": [
      "Number of distinct enteries in each columns:Sales Person      25\n",
      "Country            6\n",
      "Product           22\n",
      "Date             168\n",
      "Amount           827\n",
      "Boxes Shipped    385\n",
      "dtype: int64\n"
     ]
    }
   ],
   "source": [
    "print(f\"Number of distinct enteries in each columns:{salesData.nunique()}\")"
   ]
  },
  {
   "cell_type": "markdown",
   "metadata": {},
   "source": []
  },
  {
   "cell_type": "markdown",
   "metadata": {},
   "source": [
    "Taking a look into the types of <code>Product</code> sold. The most popular products sold are the 50% Dark Bites and the Eclairs. The least popular product sold is the Choco Coated Almonds (perfect as I am allergic anyway). "
   ]
  },
  {
   "cell_type": "code",
   "execution_count": 244,
   "metadata": {},
   "outputs": [
    {
     "data": {
      "text/plain": [
       "Product\n",
       "Choco Coated Almonds    39\n",
       "Baker's Choco Chips     41\n",
       "70% Dark Bites          42\n",
       "Caramel Stuffed Bars    43\n",
       "Mint Chip Choco         45\n",
       "Manuka Honey Choco      45\n",
       "Orange Choco            47\n",
       "Almond Choco            48\n",
       "Raspberry Choco         48\n",
       "Milk Bars               49\n",
       "Peanut Butter Cubes     49\n",
       "99% Dark & Pure         49\n",
       "Fruit & Nut Bars        50\n",
       "After Nines             50\n",
       "85% Dark Bars           50\n",
       "Organic Choco Syrup     52\n",
       "Spicy Special Slims     54\n",
       "Drinking Coco           56\n",
       "White Choc              58\n",
       "Smooth Sliky Salty      59\n",
       "50% Dark Bites          60\n",
       "Eclairs                 60\n",
       "dtype: int64"
      ]
     },
     "execution_count": 244,
     "metadata": {},
     "output_type": "execute_result"
    }
   ],
   "source": [
    "salesData.groupby(\"Product\").size().sort_values()"
   ]
  },
  {
   "cell_type": "markdown",
   "metadata": {},
   "source": [
    "Next I want to see what country made the most purchases. This has 6 categories and the countries included in the dataset are:\n",
    "<ul>\n",
    "<li>Australia</li>\n",
    "<li>Canada</li>\n",
    "<li>India</li>\n",
    "<li>New Zealand</li>\n",
    "<li>UK</li>\n",
    "<li>USA</li>\n",
    "</ul>\n",
    "\n",
    "Australia (205) placed the most orders for chocolate and New Zealand the least (173)."
   ]
  },
  {
   "cell_type": "code",
   "execution_count": 240,
   "metadata": {},
   "outputs": [
    {
     "data": {
      "text/plain": [
       "Country\n",
       "New Zealand    173\n",
       "Canada         175\n",
       "UK             178\n",
       "USA            179\n",
       "India          184\n",
       "Australia      205\n",
       "dtype: int64"
      ]
     },
     "execution_count": 240,
     "metadata": {},
     "output_type": "execute_result"
    }
   ],
   "source": [
    "salesData.groupby(\"Country\").size().sort_values()"
   ]
  },
  {
   "cell_type": "markdown",
   "metadata": {},
   "source": [
    "Taking a look into the <code>Amount</code> of each order we can see the mean value of an order is $5652.31 with a large standard deviation of $4102.44 suggesting there is much variation in the order amount. This is likely because the Mean is skewed by the maximum value of $22050 and a mininimum order value of just $7.00. The median value is $4868.50 and should be taken as a more accurate central measure due to the presence of potential skewness."
   ]
  },
  {
   "cell_type": "code",
   "execution_count": 241,
   "metadata": {},
   "outputs": [
    {
     "data": {
      "text/plain": [
       "count     1094.000000\n",
       "mean      5652.308044\n",
       "std       4102.442014\n",
       "min          7.000000\n",
       "25%       2390.500000\n",
       "50%       4868.500000\n",
       "75%       8027.250000\n",
       "max      22050.000000\n",
       "Name: Amount, dtype: float64"
      ]
     },
     "execution_count": 241,
     "metadata": {},
     "output_type": "execute_result"
    }
   ],
   "source": [
    "salesData[\"Amount\"].describe()"
   ]
  },
  {
   "cell_type": "code",
   "execution_count": null,
   "metadata": {},
   "outputs": [],
   "source": []
  }
 ],
 "metadata": {
  "kernelspec": {
   "display_name": "base",
   "language": "python",
   "name": "python3"
  },
  "language_info": {
   "codemirror_mode": {
    "name": "ipython",
    "version": 3
   },
   "file_extension": ".py",
   "mimetype": "text/x-python",
   "name": "python",
   "nbconvert_exporter": "python",
   "pygments_lexer": "ipython3",
   "version": "3.10.9"
  }
 },
 "nbformat": 4,
 "nbformat_minor": 2
}
