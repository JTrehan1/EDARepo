{
 "cells": [
  {
   "cell_type": "markdown",
   "metadata": {},
   "source": [
    "# Introduction\n",
    "\n",
    "This goal of this project is to analyse choclate sales data from a dataset uploaded to Kaggle (https://www.kaggle.com/datasets/atharvasoundankar/chocolate-sales/data). I love chocolate and after Breakaway being discontinued and Yorkie biscuit having the same fate, I want to see what the next victim could be (I am not talking about myself). \n",
    "\n",
    "<h2> Collection Methodology</h2>\n",
    "Data was aggregated from chocolate retailers and online marketplaces.\n",
    "Only confirmed transactions were included to ensure accuracy.\n",
    "Revenue values reflect final prices after applying discounts, if any.\n",
    "\n",
    "\n",
    "This project will scope, analyse, prepare, plot data, and seek to explain the findings from the analysis.\n",
    "\n",
    "Here are a few questions that this project has sought to answer:\n",
    "\n",
    "- What purchasing patterns are evident across different customer segments?\n",
    "- Do certain types of chocolate categories perform best in different locations?\n",
    "- What potential marketing strategies can be employed based on data insights, how valuale is chocolate?\n",
    "\n",
    "**Data sources:**\n",
    " `ChocolateSales.csv` \n"
   ]
  },
  {
   "cell_type": "markdown",
   "metadata": {},
   "source": [
    "## Scoping\n",
    "\n",
    "It's beneficial to create a project scope. Four sections were created below to help guide the project's process and progress. The first section is the project goals, this section will define the high-level objectives and set the intentions for this project. The next section is the data, it needs to be checked if project goals can be met with the available data. Thirdly, the analysis will have to be thought through, which includes the methods and questions that are aligned with the project goals. Lastly, evaluation will help us build conclusions and findings from our analysis.\n",
    "\n",
    "### Project Goals\n",
    "\n",
    "In this project the perspective will be through a chocloate lover who wants to gain an insight into chocolate sales across the globe, trends in types of chocolates being purchased and how valuable the sweet treat is. \n",
    "\n",
    "- What purchasing patterns are evident across different customer segments?\n",
    "- Do certain types of chocolate categories perform best in different locations?\n",
    "- What potential marketing strategies can be employed based on data insights, how valuale is chocolate?\n",
    "\n",
    "### Data\n",
    "\n",
    "This project has one data set as a `csv` file. This dataset contains detailed records of chocolate sales, including product details, sales quantities, revenue, and customer segments. \n",
    "\n",
    "### Analysis\n",
    "\n",
    "In this section, descriptive statistics and data visualisation techniques will be employed to understand the data better. Statistical inference will also be used to test if the observed values are statistically significant. Some of the key metrics that will be computed include: \n",
    "\n",
    "1. Distributions\n",
    "1. Counts\n",
    "1. Relationship between location and sales\n",
    "1. Customer behaviour analysis\n",
    "1. Seasonality trends \n",
    "\n",
    "### Evaluation\n",
    "\n",
    "Lastly, it's a good idea to revisit the goals and check if the output of the analysis corresponds to the questions first set to be answered (in the goals section). This section will also reflect on what has been learned through the process, and if any of the questions were unable to be answered. This will also include limitations or if any of the analysis could have been done using different methodologies."
   ]
  },
  {
   "cell_type": "markdown",
   "metadata": {},
   "source": [
    "## Import Python Modules"
   ]
  },
  {
   "cell_type": "code",
   "execution_count": 1,
   "metadata": {},
   "outputs": [],
   "source": [
    "import pandas as pd\n",
    "import numpy as np\n",
    "from matplotlib import pyplot as plt\n",
    "import seaborn as sns"
   ]
  },
  {
   "cell_type": "code",
   "execution_count": null,
   "metadata": {},
   "outputs": [],
   "source": []
  }
 ],
 "metadata": {
  "kernelspec": {
   "display_name": "base",
   "language": "python",
   "name": "python3"
  },
  "language_info": {
   "codemirror_mode": {
    "name": "ipython",
    "version": 3
   },
   "file_extension": ".py",
   "mimetype": "text/x-python",
   "name": "python",
   "nbconvert_exporter": "python",
   "pygments_lexer": "ipython3",
   "version": "3.10.9"
  }
 },
 "nbformat": 4,
 "nbformat_minor": 2
}
