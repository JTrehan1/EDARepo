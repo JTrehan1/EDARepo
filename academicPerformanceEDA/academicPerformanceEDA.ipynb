{
 "cells": [
  {
   "cell_type": "markdown",
   "metadata": {},
   "source": [
    "# Introduction\n",
    "\n",
    "This goal of this project is to analyse academic performance  data uploaded to Kaggle (https://www.kaggle.com/datasets/spscientist/students-performance-in-exams/data) to demonstrate my EDA skills. I also want to explore of the statistical conclusions of this analysis are in line with some of the concepts and ideas discussed in a paper I wrote about learning mathematics (also linked in my GitHub).\n",
    "\n",
    "This project will scope, analyse, prepare, plot data, and seek to explain the findings from the analysis. I aim to investigate the variables that impact a students' success when it comes to exam score; such as socioeconomic factors, gender and lifestyle factors. \n",
    "\n",
    "As I conduct my analysis I will pose some specific questions I will seek to answer using data.\n",
    "\n",
    "**Data sources:**\n",
    " `StudentPerformanceFactors.csv` "
   ]
  },
  {
   "cell_type": "markdown",
   "metadata": {},
   "source": [
    "## Scoping\n",
    "\n",
    "It's beneficial to create a project scope. The 4 sections were created below to help guide the project's process and progress. The first section is the project goals, this section will define the high-level objectives and set the intentions for this project. The next section is the data, it needs to be checked if project goals can be met with the available data. Thirdly, the analysis will have to be thought through, which includes the methods and questions that are aligned with the project goals. Lastly, evaluation will help us build conclusions and findings from our analysis.\n",
    "\n",
    "### Project Goals\n",
    "\n",
    "In this project the perspective will be through then lens of a mathematics graduate who wants to investigate what makes a successful student (in exams). I also want to see if the conclusions I made in my academic essay can be generalised to wider student populations with statistical evidence. Some of the questions I will seek to answer are:\n",
    "\n",
    "- What socioeconomic factors have the most impact on exam score?\n",
    "- How much of an impact revision and preparation has on exam score?\n",
    "- What is the distribution of scores, could this be used to inform us of weakness in topics of the population?\n",
    "\n",
    "### Data\n",
    "\n",
    "This project has one data set as a `csv` file. This dataset contains detailed records of exam scoress acorss reading, writing and maths. It also contains other variables such as lunch, race and level of parental education which could all be contributing factors to a students exam score.\n",
    "\n",
    "### Analysis\n",
    "\n",
    "In this section, descriptive statistics and data visualisation techniques will be employed to understand the data better. Statistical inference will also be used to test if the observed values are statistically significant. Some of the key metrics that will be computed include: \n",
    "\n",
    "1. Distributions\n",
    "1. Counts\n",
    "1. Relationship between score and socioeconomic factors\n",
    "1. Population analysis\n",
    "1. Score trends\n",
    "\n",
    "### Evaluation\n",
    "\n",
    "Lastly, I will revisit the goals and check if the output of the analysis corresponds to the questions first set to be answered (in the goals section). This section will also reflect on what has been learned through the process, and if any of the questions were unable to be answered. This will also include limitations or if any of the analysis could have been done using different methodologies."
   ]
  },
  {
   "cell_type": "markdown",
   "metadata": {},
   "source": [
    "<h3>Import modules</h3>"
   ]
  },
  {
   "cell_type": "code",
   "execution_count": 1,
   "metadata": {},
   "outputs": [],
   "source": [
    "import pandas as pd\n",
    "import numpy as np\n",
    "from matplotlib import pyplot as plt\n",
    "import seaborn as sns"
   ]
  },
  {
   "cell_type": "markdown",
   "metadata": {},
   "source": [
    "<h3>Import the data and obtain data characteristics</h3>"
   ]
  },
  {
   "cell_type": "code",
   "execution_count": 2,
   "metadata": {},
   "outputs": [],
   "source": [
    "studentsPerformance_df = pd.read_csv(\"/Users/jai/Documents/GitHub/EDARepo/academicPerformanceEDA/StudentPerformanceFactors.csv\")"
   ]
  },
  {
   "cell_type": "code",
   "execution_count": null,
   "metadata": {},
   "outputs": [],
   "source": []
  }
 ],
 "metadata": {
  "kernelspec": {
   "display_name": "base",
   "language": "python",
   "name": "python3"
  },
  "language_info": {
   "codemirror_mode": {
    "name": "ipython",
    "version": 3
   },
   "file_extension": ".py",
   "mimetype": "text/x-python",
   "name": "python",
   "nbconvert_exporter": "python",
   "pygments_lexer": "ipython3",
   "version": "3.10.9"
  }
 },
 "nbformat": 4,
 "nbformat_minor": 2
}
